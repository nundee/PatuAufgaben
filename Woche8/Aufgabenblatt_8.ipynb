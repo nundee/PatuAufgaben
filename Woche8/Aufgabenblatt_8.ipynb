{
 "cells": [
  {
   "cell_type": "markdown",
   "metadata": {},
   "source": [
    "# Aufgabenblatt 8"
   ]
  },
  {
   "cell_type": "markdown",
   "metadata": {},
   "source": [
    "<p style=\"background-color:#f6f6f6;border-left:5px solid red;padding:0.6em;box-sizing:border-box;\">\n",
    "<strong>Lernziele:</strong><br/>\n",
    "    In dieser Übung beschäftigen wir uns mit weiteren charackteristischen Grössen von stochastischen Signalen.\n",
    "</p>\n",
    "\n",
    "<p style=\"background-color:#f6f6f6;border-left:5px solid blue;padding:0.6em;box-sizing:border-box;\">\n",
    "<strong>Wichtigste neuen Funktionen für diese Übung:</strong><br/>\n",
    "    Dies sind die wichtigsten Funktionen die sie während dieser Übung benötigen:<br>\n",
    "    Die jeweilige Syntax beschreibt eine examplarische Verwendung. Der Funktionsname ist jeweils ein Link zur offiziellen Dokumentation, welche alle Argumente der Funktion darlegt und ihre Funktionalität beschreibt. <br>\n",
    "    <b>Funktionen zur statistischen Analyse: </b><br>\n",
    "    <a href=\"https://numpy.org/doc/stable/reference/generated/numpy.arange.html\">numpy.arange(...)</a> Gibt ein Array zurück mit gleichmässig verteilten Werten zwischen start und stop mit der Schrittweite step.<br>\n",
    "    <a href=\"https://numpy.org/doc/stable/reference/generated/numpy.where.html\">numpy.where(...)</a> Diese Funktion gibt alle Indices eines Arrays zurück, welche eine definierte Bedingung erfüllen.<br>\n",
    "    <a href=\"https://numpy.org/doc/stable/reference/generated/numpy.histogram.html\">numpy.histogram(...)</a> Berechnet das Histogram der übergebenen Daten. Dabei hält es sich an die übergebenen Ränder der Buckets.<br>\n",
    "    <b>Funktionen zum Plotten: </b><br>\n",
    "    <a href=\"https://matplotlib.org/stable/api/_as_gen/matplotlib.pyplot.axvline.html\"> axis.axvline(...)</a> Fügt eine vertikale Linie dem Plot hinzu.<br>\n",
    "    <a href=\"https://matplotlib.org/stable/api/_as_gen/matplotlib.pyplot.axhline.html\"> axis.axvline(...)</a> Fügt eine horizontale Linie dem Plot hinzu.<br>\n",
    "</p>"
   ]
  },
  {
   "cell_type": "code",
   "execution_count": 77,
   "metadata": {},
   "outputs": [],
   "source": [
    "import numpy as np\n",
    "import matplotlib.pyplot as plt"
   ]
  },
  {
   "cell_type": "markdown",
   "metadata": {},
   "source": [
    "# Aufgabe 1 Wahrscheinlichkeitsmassenfunktion"
   ]
  },
  {
   "cell_type": "markdown",
   "metadata": {},
   "source": [
    "Wie Sie aus der Vorlesung kennen, gibt die Wahrscheinlichkeitsmassenfunktion  (probability mass function, kurz PMF) die Wahrscheinlichkeit an, mit der ein bestimmter Wert z.B. in einem Datensatz vorkommt. Sie ist für diskrete Wahrscheinlichkeitsverteilungen das Analogon zur Wahrscheinlichkeitsdichtefunktion."
   ]
  },
  {
   "cell_type": "markdown",
   "metadata": {},
   "source": [
    "### a)"
   ]
  },
  {
   "cell_type": "markdown",
   "metadata": {},
   "source": [
    "Schreiben Sie eine Funktion, die die Wahrscheinlichkeitsmassenfunktion für einen Datensatz berechnet. Die Diskretisierung der Daten wird durch Auflösung der Messung oder allfälliges späteres Binning gegeben sein. Die Funktion sollte also die Daten sowie die Auflösung der Daten als Argument nehmen und die möglichen Werte mit den dazugehörigen Wahrscheinlichkeiten zurückgeben.\n",
    "\n",
    "Sie können dazu die `np.histogramm` Funktion benutzen, beachten Sie dabei, dass Sie die Bins richtig definieren. Falls `bins = [1, 2, 3]` dann ist das erste Bin durch die Grenzen `[1, 2)` und das zweite durch `[2, 3)` gegeben.\n"
   ]
  },
  {
   "cell_type": "code",
   "execution_count": 78,
   "metadata": {},
   "outputs": [],
   "source": [
    "def pmf(data, res, binWidthFactor:int=2):\n",
    "    bwf = int(binWidthFactor)\n",
    "    nbins = int(np.ceil((np.max(data) - np.min(data))/res/bwf))\n",
    "    hist, edges = np.histogram(data, nbins)\n",
    "    center = edges[:-1] + ((edges[1] - edges[0]) / 2)\n",
    "    ret = hist/len(data)\n",
    "    return ret, center\n",
    "    "
   ]
  },
  {
   "cell_type": "markdown",
   "metadata": {},
   "source": [
    "### b)"
   ]
  },
  {
   "cell_type": "markdown",
   "metadata": {},
   "source": [
    "Im File `Voltages.txt` finden Sie zwei Datensätze mit Spannungen mit einer Auflösung von 10mV als Funktion der Zeit. Laden Sie die Datensätze, berechnen Sie jeweils die PMF und stellen Sie sie graphisch dar. Überprüfen Sie dabei Ihre Funktion, indem Sie die Summe über alle Wahrscheinlichkeiten berechnen. Welchen Wert sollten Sie erhalten?"
   ]
  },
  {
   "cell_type": "code",
   "execution_count": 121,
   "metadata": {},
   "outputs": [
    {
     "data": {
      "text/plain": [
       "<BarContainer object of 295 artists>"
      ]
     },
     "execution_count": 121,
     "metadata": {},
     "output_type": "execute_result"
    },
    {
     "data": {
      "image/png": "[encoded data removed]",
      "text/plain": [
       "<Figure size 1200x600 with 2 Axes>"
      ]
     },
     "metadata": {},
     "output_type": "display_data"
    }
   ],
   "source": [
    "raw = np.loadtxt(\"Voltages.txt\")\n",
    "t = raw[0]\n",
    "v1 = raw[1]\n",
    "v2 = raw[2]\n",
    "\n",
    "BWF=2\n",
    "#p, bins = np.histogram(v1, 100)\n",
    "#p = p/len(v1)\n",
    "\n",
    "#plt.plot(bins, p, 'o')\n",
    "res = 0.01\n",
    "pmfv1, center1 = pmf(v1, res, BWF)\n",
    "pmfv2, center2 = pmf(v2, res, BWF)\n",
    "\n",
    "fig1, (ax1, ax2) = plt.subplots(1,2, figsize = (12,6), sharey = True)\n",
    "ax1.bar(center1, pmfv1, width=center1[1]-center1[0])\n",
    "ax2.bar(center2, pmfv2, width=center2[1]-center2[0])"
   ]
  },
  {
   "cell_type": "markdown",
   "metadata": {},
   "source": [
    "### c)"
   ]
  },
  {
   "cell_type": "markdown",
   "metadata": {},
   "source": [
    "Sie haben in der Vorlesung die Begriffe Mode, Median und Mittelwert kennengelernt. Schreiben Sie eine Funktion, die ein Set an Daten und deren Auflösung als Argument nimmt und die Mode und den Median der Daten zurückgibt. Sie können dazu die Hilfe von Numpy Funktionen verwenden."
   ]
  },
  {
   "cell_type": "code",
   "execution_count": 128,
   "metadata": {},
   "outputs": [],
   "source": [
    "def mode_median(data, res, bwf):\n",
    "    s = 0\n",
    "    i = 0\n",
    "    pmfd, center = pmf(data, res, binWidthFactor=bwf)\n",
    "    mode = center[np.argmax(pmfd)]\n",
    "    \n",
    "    cs=np.cumsum(pmfd)\n",
    "    I,=np.where(cs>=0.5)\n",
    "    index = I[0]\n",
    "\n",
    "    #for i in range(len(pmfd)):\n",
    "    #    s = s + pmfd[i]\n",
    "    #    if s >= 0.5:\n",
    "    #        break\n",
    "\n",
    "    return mode, center[index], index, pmfd, center"
   ]
  },
  {
   "cell_type": "markdown",
   "metadata": {},
   "source": [
    "### d)"
   ]
  },
  {
   "cell_type": "markdown",
   "metadata": {},
   "source": [
    "Plotten Sie nun die Mode, den Median und den Mittelwert der Datensätze in die PMF. Was für Unterschiede werden deutlich?"
   ]
  },
  {
   "cell_type": "code",
   "execution_count": 129,
   "metadata": {},
   "outputs": [
    {
     "name": "stdout",
     "output_type": "stream",
     "text": [
      "0.9550840336134455 0.9949159663865547\n",
      "0.6888305084745763 1.0082881355932203\n"
     ]
    }
   ],
   "source": [
    "mode1, median1,_,_,_ = mode_median(v1, 0.01, BWF)\n",
    "mode2, median2,_,_,_ = mode_median(v2, 0.01, BWF)\n",
    "print (mode1, median1)\n",
    "print (mode2, median2)"
   ]
  },
  {
   "cell_type": "markdown",
   "metadata": {},
   "source": [
    "### e)"
   ]
  },
  {
   "cell_type": "markdown",
   "metadata": {},
   "source": [
    "Eine wichtige Kenngrösse einer Verteilung ist dessen Breite und eine häufig verwendete Definition dafür ist die Breite auf halber Höhe (full width at half maximum oder kurz FWHM). Schreiben Sie eine Funktion, die die FWHM für eine Verteilung berechnet, die ein einzelnes Maximum aufweist. Für Datensätze mit starkem Rauschen kann das Finden des halben Wertes komplizierter werden. Sie haben bereits Methoden gesehen, wie man Daten glätten kann, nehmen Sie also für diese Aufgabe an, dass das Rauschen der Daten kleiner ist als deren Auflösung."
   ]
  },
  {
   "cell_type": "code",
   "execution_count": 130,
   "metadata": {},
   "outputs": [],
   "source": [
    "def fwhm(data, res, bwf):\n",
    "    mode, median, index, pmfd, center = mode_median(data, res, bwf)\n",
    "\n",
    "    m2=pmfd[index]/2\n",
    "    il, = np.where(pmfd[:index]<=m2)\n",
    "    ir, = np.where(pmfd[index:]>=m2)\n",
    "    il = il[-1]\n",
    "    ir = index+ir[-1]\n",
    "    return center[ir] - center[il] \n",
    "\n",
    "    # ldis = index\n",
    "    # rdis = len(pmfd) - index\n",
    "    # lv = len(pmfd)\n",
    "    # rv = 0\n",
    "    \n",
    "    # #print(ldis, rdis, index, len(data), len(pmfd))\n",
    "    \n",
    "    \n",
    "    # for i in range(ldis-1):\n",
    "    #     if pmfd[index - i] <= pmfd[index]/2:\n",
    "    #         lv = index - i\n",
    "    #         break\n",
    "    # for i in range(rdis-1):\n",
    "    #     if pmfd[index + i] <= pmfd[index]/2:\n",
    "    #         rv = index + i\n",
    "    #         break\n",
    "    # if lv <= index and rv >= index:\n",
    "    #     print(lv,rv)\n",
    "    #     return center[rv] - center[lv]\n",
    "    # else:\n",
    "    #     return 0\n",
    "        "
   ]
  },
  {
   "cell_type": "markdown",
   "metadata": {},
   "source": [
    "### f)"
   ]
  },
  {
   "cell_type": "markdown",
   "metadata": {},
   "source": [
    "Berechnen Sie die FWHM der PMF der Daten aus den beiden Datensätzen. Für normalverteilte Daten kann die FWHM auch analytisch berechnet werden. Dabei gilt dass: $\\mathrm{FWHM} = 2\\sigma\\sqrt{2\\log{2}}$, wobei $\\sigma$ die Wurzel der Varianz ist. Vergleichen Sie das Resultat Ihrer Funktion mit der FWHM, die Sie aus der Varianz berechnen, können Sie die Abweichungen erklären? (Der symmetrische Datensatz ist Normalverteilt.)"
   ]
  },
  {
   "cell_type": "code",
   "execution_count": 131,
   "metadata": {},
   "outputs": [
    {
     "name": "stdout",
     "output_type": "stream",
     "text": [
      "0.6970588235294117 0.7059766269508349\n"
     ]
    }
   ],
   "source": [
    "f1 = fwhm(v1, res, BWF)\n",
    "comp = 2*np.std(v1)*np.sqrt(2*np.log(2))\n",
    "print(f1, comp)"
   ]
  },
  {
   "cell_type": "markdown",
   "metadata": {},
   "source": [
    "#  Aufgabe 2 Momente"
   ]
  },
  {
   "cell_type": "markdown",
   "metadata": {},
   "source": [
    "Momente sind charakteristische Grössen für Zufallsvariablen und sind verknüpft mit Erwartungswert, Varianz, Schiefe etc. In der Vorlesung haben Sie die Formel für das n-te Moment von diskrete Zufallsvariablen gesehen:\n",
    "\n",
    "$$m_n = \\sum_{i=0}^{N}x^n_ip_i(x),$$\n",
    "\n",
    "wobei der Wert $x_i$ mit Wahrscheinlichkeit $p_i(x)$ im Datensatz vorkommt. Da $x_ip_i(x) = \\frac{X_i}{M}$, wobei $X_i$ den Daten und $M$ deren Anzahl entspricht, kann man das n-te Moment auch via:\n",
    "\n",
    "$$ m_n =\\frac{1}{M}\\sum_{i=0}^{M}X_i^n $$\n",
    "central $$ m_n =\\frac{1}{M}\\sum_{i=0}^{M}(x_i-mean(x))^n $$\n",
    "berechnen. Dies hat den Vorteil das man nicht auf ein Binning angewiesen ist."
   ]
  },
  {
   "cell_type": "markdown",
   "metadata": {},
   "source": [
    "### a)"
   ]
  },
  {
   "cell_type": "markdown",
   "metadata": {},
   "source": [
    "Schreiben Sie eine Funktion, die das n-te Moment aus einem Datensatz berechnet."
   ]
  },
  {
   "cell_type": "code",
   "execution_count": 136,
   "metadata": {},
   "outputs": [],
   "source": [
    "def moment(x,n, central=True):\n",
    "    n=int(n)\n",
    "    if n<1:\n",
    "        return 0\n",
    "    M=len(x)\n",
    "    mean=1.0/M*np.sum(x)\n",
    "    if n==1:\n",
    "        return mean\n",
    "    if central:\n",
    "        x=x-mean\n",
    "    return 1.0/M*np.sum(x**n)"
   ]
  },
  {
   "cell_type": "markdown",
   "metadata": {},
   "source": [
    "### b)"
   ]
  },
  {
   "cell_type": "markdown",
   "metadata": {},
   "source": [
    "Die ersten beiden Momente hängen mit dem Mittelwert und der Varianz zusammen. Berechnen Sie sie für die beiden Datensätze Mittelwert und Varianz einmal über die Momente und einmal mit Numpy und vergleichen Sie die Werte."
   ]
  },
  {
   "cell_type": "code",
   "execution_count": 137,
   "metadata": {},
   "outputs": [
    {
     "name": "stdout",
     "output_type": "stream",
     "text": [
      "0.9975184 0.9975183999999999\n",
      "1.0849233999999999 0.08988044166144002\n",
      "1.083862 1.0838619999999999\n",
      "1.5487968040000002 0.374039968956\n"
     ]
    }
   ],
   "source": [
    "for v in (v1,v2):\n",
    "    mean=moment(v,1)\n",
    "    mean_np=np.mean(v)\n",
    "    var=moment(v,2, False)\n",
    "    var_np = np.var(v)\n",
    "\n",
    "    print(mean, mean_np)\n",
    "    print(var, var_np)"
   ]
  },
  {
   "cell_type": "markdown",
   "metadata": {},
   "source": [
    "### c)"
   ]
  },
  {
   "cell_type": "markdown",
   "metadata": {},
   "source": [
    "Die höheren Momente geben zusätzliche Informationen über die Symmetrie und die Breite der Verteilung. Berechnen und vergleichen Sie die ersten drei zentralen Momente für die beiden Datensätze."
   ]
  },
  {
   "cell_type": "code",
   "execution_count": 139,
   "metadata": {},
   "outputs": [
    {
     "name": "stdout",
     "output_type": "stream",
     "text": [
      "ordnung 1\n",
      "v1 0.9975184\n",
      "v2 1.083862\n",
      "ordnung 2\n",
      "v1 0.08988044166144002\n",
      "v2 0.37403996895600006\n",
      "ordnung 3\n",
      "v1 0.00010427279461405669\n",
      "v2 0.20227324995777582\n"
     ]
    }
   ],
   "source": [
    "for n in (1,2,3):\n",
    "    print(\"ordnung\", n)\n",
    "    print(\"v1\", moment(v1,n))\n",
    "    print(\"v2\", moment(v2,n))\n"
   ]
  }
 ],
 "metadata": {
  "kernelspec": {
   "display_name": "Python 3 (ipykernel)",
   "language": "python",
   "name": "python3"
  },
  "language_info": {
   "codemirror_mode": {
    "name": "ipython",
    "version": 3
   },
   "file_extension": ".py",
   "mimetype": "text/x-python",
   "name": "python",
   "nbconvert_exporter": "python",
   "pygments_lexer": "ipython3",
   "version": "3.11.6"
  },
  "latex_envs": {
   "LaTeX_envs_menu_present": true,
   "autoclose": false,
   "autocomplete": true,
   "bibliofile": "biblio.bib",
   "cite_by": "apalike",
   "current_citInitial": 1,
   "eqLabelWithNumbers": true,
   "eqNumInitial": 1,
   "hotkeys": {
    "equation": "Ctrl-E",
    "itemize": "Ctrl-I"
   },
   "labels_anchors": false,
   "latex_user_defs": false,
   "report_style_numbering": false,
   "user_envs_cfg": false
  },
  "toc": {
   "base_numbering": 1,
   "nav_menu": {},
   "number_sections": false,
   "sideBar": true,
   "skip_h1_title": false,
   "title_cell": "Table of Contents",
   "title_sidebar": "Contents",
   "toc_cell": false,
   "toc_position": {
    "height": "calc(100% - 180px)",
    "left": "10px",
    "top": "150px",
    "width": "460.8px"
   },
   "toc_section_display": true,
   "toc_window_display": true
  }
 },
 "nbformat": 4,
 "nbformat_minor": 4
}
