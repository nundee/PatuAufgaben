{
 "cells": [
  {
   "cell_type": "markdown",
   "id": "0d078d0c-1d8b-4dd8-a59a-b0ea48e07ea4",
   "metadata": {},
   "source": [
    "# Aufgabenblatt 7"
   ]
  },
  {
   "cell_type": "markdown",
   "id": "ee21bdfe-ae6d-4f4c-b4ef-24b87a1b30a9",
   "metadata": {},
   "source": [
    "<p style=\"background-color:#f6f6f6;border-left:5px solid red;padding:0.6em;box-sizing:border-box;\">\n",
    "<strong>Lernziele:</strong><br/>\n",
    "    In dieser Übung beschäftigen wir uns mit dem Filtern von Signalen. Dies ist wichtig um, wenn möglich, das Signal an dem wir interessiert sind vom Messrauschen zu trennen.\n",
    "</p>\n",
    "\n",
    "<p style=\"background-color:#f6f6f6;border-left:5px solid blue;padding:0.6em;box-sizing:border-box;\">\n",
    "<strong>Wichtigste neuen Funktionen für diese Übung:</strong><br/>\n",
    "    Dies sind die wichtigsten Funktionen die sie während dieser Übung benötigen:<br>\n",
    "    Die jeweilige Syntax beschreibt eine examplarische Verwendung. Im allgemeinen haben die Funktionen weitere Argumente die übergeben werden können. Der Funktionsname ist jeweils ein Link zur offiziellen Dokumentation, welche alle Argumente darlegt und ihre Funktion beschreibt. <br>\n",
    "    <b>Funktionen zur statistischen Analyse: </b><br>\n",
    "    <a href=\"https://numpy.org/doc/stable/reference/generated/numpy.fft.fft.html\">numpy.fft(...)</a> Berechnet die Fouriertransformation des übergebenen Signals. Dafür wird der FFT-Algorithmus verwendet.<br>\n",
    "    <a href=\"https://numpy.org/doc/stable/reference/generated/numpy.fft.fftfreq.html\">numpy.fftfreq(...)</a> Diese Funktion gibt die evaluierten Frequenzen der Fouriertransformation der Länge n mit der zeitlichen Schrittweite d zurück.<br>\n",
    "    <a href=\"https://numpy.org/doc/stable/reference/generated/numpy.fft.ifft.html\">numpy.ifft(...)</a> Berechnet die 1-dimensionale Inverse-Fouriertransformation des übergebenen Signals.<br>\n",
    "</p>"
   ]
  },
  {
   "cell_type": "code",
   "execution_count": 1,
   "id": "7bd740b6",
   "metadata": {},
   "outputs": [],
   "source": [
    "import numpy as np\n",
    "from numpy.fft import fftfreq, fft, ifft\n",
    "import matplotlib.pyplot as plt"
   ]
  },
  {
   "cell_type": "markdown",
   "id": "17be3b11",
   "metadata": {},
   "source": [
    "# Aufgabe 1: Glätten mit gleitendem Mittelwert"
   ]
  },
  {
   "cell_type": "markdown",
   "id": "e11164dd",
   "metadata": {},
   "source": [
    "Eine einfache Methode um das Rauschen in Daten zu reduzieren ist den gleitenden Mittelwert (moving average) zu bilden. Das heisst jeder Datenpunkt $x_i$ wird durch den Mittelwert der benachbarten Datenpunkte ersetzt,\n",
    "\n",
    "$$\\tilde{x}_i = \\mathrm{mean}(\\{x_{i-\\Delta}, \\dots, x_{i+\\Delta}\\}),$$\n",
    "\n",
    "wobei $x_i$ die gemessenen und $\\tilde{x}_i$ die geglätteten Datenpunkte sind."
   ]
  },
  {
   "cell_type": "markdown",
   "id": "7ecae35e",
   "metadata": {},
   "source": [
    "## a)"
   ]
  },
  {
   "cell_type": "markdown",
   "id": "34cefb7d",
   "metadata": {},
   "source": [
    "Schreiben Sie eine Funktion, die ein gegebenes Datenarray auf diese Weise glättet. Als Argumente sollen die Datenpunkte und die Anzahl Indizes, über die gemittelt wird, gegeben werden.\n",
    "\n",
    "Überlegen Sie sich, wie Sie die Randwerte behandeln möchten (also Indizes $i=0, \\dots, \\Delta$ und $i=N-1-\\Delta,\\dots,N-1$). Es gibt verschiedene Möglichkeiten, die alle ihre Berechtigung haben."
   ]
  },
  {
   "cell_type": "code",
   "execution_count": null,
   "id": "344fa766",
   "metadata": {},
   "outputs": [],
   "source": []
  },
  {
   "cell_type": "markdown",
   "id": "ed5a83c9",
   "metadata": {},
   "source": [
    "## b)"
   ]
  },
  {
   "cell_type": "markdown",
   "id": "4c3e4deb",
   "metadata": {},
   "source": [
    "Laden Sie den Datensatz 'peaks.txt' und plotten Sie das Signal als Funktion der Zeit. Wenden Sie dann Ihre Funktion darauf an um die Daten zu glätten. Probieren Sie verschiedene Werte für die Breite $\\Delta$ des gemittelten Bereichs und schauen Sie, welchen Einfluss diese auf das Resultat haben."
   ]
  },
  {
   "cell_type": "code",
   "execution_count": null,
   "id": "cba6bdb2",
   "metadata": {},
   "outputs": [],
   "source": []
  },
  {
   "cell_type": "markdown",
   "id": "c0f3271a",
   "metadata": {},
   "source": [
    "## c)"
   ]
  },
  {
   "cell_type": "markdown",
   "id": "13ab63ce",
   "metadata": {},
   "source": [
    "Bei welchen Frequenzen erwarten Sie eine Änderung im der spektralen Leistungsdichte wenn Sie das gefilterte Signal betrachten?\n",
    "\n",
    "Berechnen Sie mithilfe der Fouriertransformation die spektrale Leistungsdichte des Originalsignals und des geglätteten Signals. Bestätigt sich Ihre Vermutung? Welchen Einfluss hat der Wert $\\Delta$?\n",
    "\n",
    "Hinweis: Sie müssen die y-Achse logarithmisch plotten oder stark vergrössern um den Effekt zu sehen. Das Spektrum wird ansonsten von den tiefen Frequenzen dominiert, da das Signal grösstenteils konstant ist."
   ]
  },
  {
   "cell_type": "code",
   "execution_count": null,
   "id": "b0d11298",
   "metadata": {},
   "outputs": [],
   "source": []
  },
  {
   "cell_type": "markdown",
   "id": "3aff23f2",
   "metadata": {},
   "source": [
    "# Aufgabe 2: Filtern im Frequenzraum"
   ]
  },
  {
   "cell_type": "markdown",
   "id": "50dc907a",
   "metadata": {},
   "source": [
    "In Aufgabe 1 haben Sie die Daten in der Zeitdomäne gefiltert und gesehen, wie sich das in der Frequenzdomäne wiederspiegelt. In dieser Aufgabe werden Sie die Daten in der Frequenzdomäne filtern und schauen, was der Effekt auf das zeitabhängige Signal ist."
   ]
  },
  {
   "cell_type": "markdown",
   "id": "bcc3f883",
   "metadata": {},
   "source": [
    "## Hintergrund"
   ]
  },
  {
   "cell_type": "markdown",
   "id": "26675e4a",
   "metadata": {},
   "source": [
    "In der Vorlesung haben Sie gesehen, dass man für die Bestimmung der Dauer eines kurzen Laserpulses dessen Autokovarianz oder Autokorrelation verwenden kann. Dies ist notwendig, weil Laserpulse viel kürzer (z.B. $150\\,\\mathrm{fs} = 150\\cdot 10^{-15}\\,\\mathrm{s}$) sein können als die Abtastraten von Detektoren (bis zu GHz, also $\\Delta t \\sim 1\\,\\mathrm{ns} = 1\\cdot 10^{-9}\\,\\mathrm{s}$).\n",
    "\n",
    "In der Datei 'autocorrelation_laser.txt' finden Sie eine Messung der Autokorrelation eines Laserpulses, die mit einem <a href=https://en.wikipedia.org/wiki/Michelson_interferometer>Michelson-Inteferometer</a> durchgeführt wurde. Das gemessene Signal hat die Einheit Volt und ist proportional zur Intensitätsautokorrelation des Laserlichts. Die Zeitachse entspricht der Zeitverzögerung zwischen den zwei Armen des Interferometers und damit der Zeitdifferenz zwischen den Laserpulsen, die miteinander interferieren."
   ]
  },
  {
   "cell_type": "markdown",
   "id": "4416e9f0",
   "metadata": {},
   "source": [
    "## a)"
   ]
  },
  {
   "cell_type": "markdown",
   "id": "a98b23be",
   "metadata": {},
   "source": [
    "Laden Sie den Datensatz 'autocorrelation_laser.txt' und berechnen Sie die Fouriertransformation des Signals. Plotten Sie dann sowohl das Signal als Funktion der Zeit, als auch die spektrale Leistungsdichte."
   ]
  },
  {
   "cell_type": "code",
   "execution_count": null,
   "id": "82fd720a",
   "metadata": {},
   "outputs": [],
   "source": []
  },
  {
   "cell_type": "markdown",
   "id": "19a7a215",
   "metadata": {},
   "source": [
    "## b)"
   ]
  },
  {
   "cell_type": "markdown",
   "id": "b6a955e9",
   "metadata": {},
   "source": [
    "Berechnen Sie mit `np.fft.ifft` die Fourier-Rücktransformation und plotten Sie es als Funktion der Zeit, um sich zu vergewissern, dass Sie das ursprüngliche Signal rekonstruieren können."
   ]
  },
  {
   "cell_type": "code",
   "execution_count": null,
   "id": "7907f3aa",
   "metadata": {},
   "outputs": [],
   "source": []
  },
  {
   "cell_type": "markdown",
   "id": "11eb311e",
   "metadata": {},
   "source": [
    "## c)"
   ]
  },
  {
   "cell_type": "markdown",
   "id": "a7b3e42b",
   "metadata": {},
   "source": [
    "Schreiben Sie nun eine Funktion, die ein Signal im Frequenzraum filtert und das gefilterte Signal zurückgibt. Die Funktion soll als Argumente ein zeitabhängiges Signal nehmen (Zeitachse $t$, Messwerte $s(t)$), sowie die untere Grenze $f_{\\mathrm{min}}$ und obere Grenze $f_{\\mathrm{max}}$ eines Frequenzbereichs. Berechnen Sie die Fouriertransformation des Signals und setzen Sie dann alle Frequenzen ausserhalb des Frequenzbereichs $[f_{\\mathrm{min}}, f_{\\mathrm{max}}]$ auf Null. Das gefilterte Signal erhalten Sie aus der Rücktransformation des modifizierten Spektrums.\n",
    "\n",
    "Hinweis: Beachten Sie, dass auch negative Frequenzen vorkommen. Daher müssen Sie beim Filtern alle Frequenzen $f_n$ behalten, die \n",
    "\n",
    "$$ f_{\\mathrm{min}} \\leq \\left| f_n \\right| \\leq f_{\\mathrm{max}} $$\n",
    "\n",
    "erfüllen."
   ]
  },
  {
   "cell_type": "code",
   "execution_count": null,
   "id": "6bf8e1f2",
   "metadata": {},
   "outputs": [],
   "source": []
  },
  {
   "cell_type": "markdown",
   "id": "e6269587",
   "metadata": {},
   "source": [
    "## d)"
   ]
  },
  {
   "cell_type": "markdown",
   "id": "e32e3b6f",
   "metadata": {},
   "source": [
    "Verwenden Sie Ihre Funktion aus c) um auf das Signal, das Sie in a) geladen haben, einen Tiefpassfilter anzuwenden (d.h. hohe Frequenzen über einem Grenzwert werden herausgefiltert). Plotten Sie das gefilterte Signal als Funktion der Zeit.\n",
    "\n",
    "Was passiert, wenn Sie statt einem Tiefpassfilter einen Hochpassfilter anwenden (also Frequenzen unter dem Grenzwert herausfiltern)? Welches Signal würden Sie verwenden, um die Länge des Laserpulses zu bestimmen?\n",
    "\n",
    "Hinweis: Wählen sie den Grenzwert kleiner als die erste endliche Frequenzkomponente des Signals, so dass die oszillierenden und die nicht oszillierenden Teile des Signals getrennt werden."
   ]
  },
  {
   "cell_type": "code",
   "execution_count": null,
   "id": "6428efcc",
   "metadata": {},
   "outputs": [],
   "source": []
  },
  {
   "cell_type": "markdown",
   "id": "3d5c396a",
   "metadata": {},
   "source": [
    "## e)"
   ]
  },
  {
   "cell_type": "markdown",
   "id": "5e1bb0cd",
   "metadata": {},
   "source": [
    "Laden Sie nun den Datensatz \"noisy_pulse.txt\" und plotten Sie wieder das Signal als Funktion der Zeit und die spektrale Leistungsdichte. Lesen Sie aus dem Spektrum die dominante Frequenzkomponente ab und verwenden Sie Ihre Funktion aus c) um einen Bandpassfilter in diesem Frequenzbereich auf die Daten anzuwenden; d.h. Sie behalten nur die Frequenzen aus einem kleinen Bereich rund um die dominante Frequenzkomponente.\n",
    "\n",
    "Hinweis: Sie sollten nach Anwenden des Filters eine Oszillation mit einer gaussförmigen Einhüllenden bekommen."
   ]
  },
  {
   "cell_type": "markdown",
   "id": "ac1a9476",
   "metadata": {},
   "source": [
    "# Nachbemerkung"
   ]
  },
  {
   "cell_type": "markdown",
   "id": "f38fc796",
   "metadata": {},
   "source": [
    "Bei all diesen Aufgaben war immer von einem zeitabhängigen Signal die Rede, so dass das Spektrum auch echten Frequenzen entspricht. Allerdings ist dies nicht nötig um diese Methoden anzuwenden; sie funktionieren für jedes Array von Datenpunkten, unabhängig davon, was die x-Achse dazu ist. Tatsächlich waren die Daten aus Aufgabe 1 nicht ein zeitabhängiges Signal, sondern ein optisches Reflexionsspektrum und die x-Achse entspricht in Wirklichkeit einer Wellenlänge. Dennoch kann man die Daten durch Mitteln oder Tiefpassfiltern im Fourier-Raum glätten."
   ]
  }
 ],
 "metadata": {
  "author": "x",
  "kernelspec": {
   "display_name": "Python 3 (ipykernel)",
   "language": "python",
   "name": "python3"
  },
  "language_info": {
   "codemirror_mode": {
    "name": "ipython",
    "version": 3
   },
   "file_extension": ".py",
   "mimetype": "text/x-python",
   "name": "python",
   "nbconvert_exporter": "python",
   "pygments_lexer": "ipython3",
   "version": "3.11.8"
  },
  "latex_envs": {
   "LaTeX_envs_menu_present": true,
   "autoclose": false,
   "autocomplete": true,
   "bibliofile": "biblio.bib",
   "cite_by": "apalike",
   "current_citInitial": 1,
   "eqLabelWithNumbers": true,
   "eqNumInitial": 1,
   "hotkeys": {
    "equation": "Ctrl-E",
    "itemize": "Ctrl-I"
   },
   "labels_anchors": false,
   "latex_user_defs": false,
   "report_style_numbering": false,
   "user_envs_cfg": false
  },
  "toc": {
   "base_numbering": 1,
   "nav_menu": {},
   "number_sections": false,
   "sideBar": true,
   "skip_h1_title": false,
   "title_cell": "Table of Contents",
   "title_sidebar": "Contents",
   "toc_cell": false,
   "toc_position": {
    "height": "calc(100% - 180px)",
    "left": "10px",
    "top": "150px",
    "width": "460.8px"
   },
   "toc_section_display": true,
   "toc_window_display": true
  }
 },
 "nbformat": 4,
 "nbformat_minor": 5
}
